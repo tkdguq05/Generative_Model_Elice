{
 "cells": [
  {
   "cell_type": "markdown",
   "metadata": {},
   "source": [
    "## Linear regression with sklearn "
   ]
  },
  {
   "cell_type": "code",
   "execution_count": 1,
   "metadata": {},
   "outputs": [],
   "source": [
    "import numpy as np\n",
    "from sklearn.datasets import load_boston"
   ]
  },
  {
   "cell_type": "code",
   "execution_count": 2,
   "metadata": {},
   "outputs": [
    {
     "data": {
      "text/plain": [
       "array(['CRIM', 'ZN', 'INDUS', 'CHAS', 'NOX', 'RM', 'AGE', 'DIS', 'RAD',\n",
       "       'TAX', 'PTRATIO', 'B', 'LSTAT'], dtype='<U7')"
      ]
     },
     "execution_count": 2,
     "metadata": {},
     "output_type": "execute_result"
    }
   ],
   "source": [
    "boston = load_boston()\n",
    "boston.feature_names"
   ]
  },
  {
   "cell_type": "code",
   "execution_count": 6,
   "metadata": {},
   "outputs": [],
   "source": [
    "X = boston.data\n",
    "y = boston.target"
   ]
  },
  {
   "cell_type": "code",
   "execution_count": 11,
   "metadata": {},
   "outputs": [],
   "source": [
    "from sklearn.model_selection import train_test_split"
   ]
  },
  {
   "cell_type": "code",
   "execution_count": 15,
   "metadata": {},
   "outputs": [],
   "source": [
    "X_train, X_test, y_train, y_test = train_test_split(X, y, test_size=0.3, random_state=1016)"
   ]
  },
  {
   "cell_type": "code",
   "execution_count": 16,
   "metadata": {},
   "outputs": [],
   "source": [
    "## model fitting\n",
    "from sklearn.linear_model import LinearRegression"
   ]
  },
  {
   "cell_type": "code",
   "execution_count": 17,
   "metadata": {},
   "outputs": [],
   "source": [
    "model_lr_sk = LinearRegression(fit_intercept=True)  # 상수항 옵션\n",
    "model_lr_sk = model_lr_sk.fit(X_train, y_train)"
   ]
  },
  {
   "cell_type": "code",
   "execution_count": 18,
   "metadata": {},
   "outputs": [
    {
     "data": {
      "text/plain": [
       "44.57488770378734"
      ]
     },
     "execution_count": 18,
     "metadata": {},
     "output_type": "execute_result"
    }
   ],
   "source": [
    "model_lr_sk.coef_\n",
    "model_lr_sk.intercept_"
   ]
  },
  {
   "cell_type": "code",
   "execution_count": 19,
   "metadata": {},
   "outputs": [],
   "source": [
    "y_pred = model_lr_sk.predict(X_test)"
   ]
  },
  {
   "cell_type": "code",
   "execution_count": 20,
   "metadata": {},
   "outputs": [],
   "source": [
    "mse = np.mean((y_test - y_pred)**2)"
   ]
  },
  {
   "cell_type": "code",
   "execution_count": 21,
   "metadata": {},
   "outputs": [
    {
     "data": {
      "text/plain": [
       "16.17941821807036"
      ]
     },
     "execution_count": 21,
     "metadata": {},
     "output_type": "execute_result"
    }
   ],
   "source": [
    "mse"
   ]
  },
  {
   "cell_type": "code",
   "execution_count": 23,
   "metadata": {},
   "outputs": [
    {
     "data": {
      "text/plain": [
       "array([14.31606279, 20.85429581, 23.05769965, 22.62225968, 29.51511445,\n",
       "       23.8247533 , 15.85991511, 16.04193992, 28.75789131, 32.48080607])"
      ]
     },
     "execution_count": 23,
     "metadata": {},
     "output_type": "execute_result"
    }
   ],
   "source": [
    "y_pred[:10]"
   ]
  },
  {
   "cell_type": "code",
   "execution_count": 22,
   "metadata": {},
   "outputs": [
    {
     "data": {
      "image/png": "[encoded data removed]",
      "text/plain": [
       "<matplotlib.figure.Figure at 0x1a0e64b940>"
      ]
     },
     "metadata": {},
     "output_type": "display_data"
    }
   ],
   "source": [
    "import matplotlib.pyplot as plt\n",
    "%matplotlib inline\n",
    "plt.scatter(y_test, y_pred)\n",
    "plt.xlabel('True')\n",
    "plt.ylabel('Prediction')\n",
    "plt.show()"
   ]
  },
  {
   "cell_type": "markdown",
   "metadata": {},
   "source": [
    "## Linear Regression with statsmodels"
   ]
  },
  {
   "cell_type": "code",
   "execution_count": 24,
   "metadata": {},
   "outputs": [
    {
     "name": "stderr",
     "output_type": "stream",
     "text": [
      "/Users/sanghyub/anaconda/lib/python3.6/importlib/_bootstrap.py:219: RuntimeWarning: numpy.dtype size changed, may indicate binary incompatibility. Expected 96, got 88\n",
      "  return f(*args, **kwds)\n",
      "/Users/sanghyub/anaconda/lib/python3.6/importlib/_bootstrap.py:219: RuntimeWarning: numpy.dtype size changed, may indicate binary incompatibility. Expected 96, got 88\n",
      "  return f(*args, **kwds)\n",
      "/Users/sanghyub/anaconda/lib/python3.6/site-packages/statsmodels/compat/pandas.py:56: FutureWarning: The pandas.core.datetools module is deprecated and will be removed in a future version. Please use the pandas.tseries module instead.\n",
      "  from pandas.core import datetools\n"
     ]
    }
   ],
   "source": [
    "import statsmodels.api as sm\n",
    "import pandas as pd\n",
    "\n",
    "## data -> dataframe 형태 & 상수항 추가\n",
    "dfX0 = pd.DataFrame(boston.data, columns=boston.feature_names)\n",
    "dfX = sm.add_constant(dfX0) #constant\n",
    "dfX.head()\n",
    "dfy = pd.DataFrame(boston.target, columns=[\"MEDV\"])"
   ]
  },
  {
   "cell_type": "code",
   "execution_count": 25,
   "metadata": {},
   "outputs": [],
   "source": [
    "dfX_train, dfX_test, dfy_train, dfy_test = train_test_split(dfX, dfy, test_size=0.3, random_state=1016)"
   ]
  },
  {
   "cell_type": "code",
   "execution_count": 26,
   "metadata": {},
   "outputs": [
    {
     "name": "stdout",
     "output_type": "stream",
     "text": [
      "                            OLS Regression Results                            \n",
      "==============================================================================\n",
      "Dep. Variable:                   MEDV   R-squared:                       0.724\n",
      "Model:                            OLS   Adj. R-squared:                  0.713\n",
      "Method:                 Least Squares   F-statistic:                     68.49\n",
      "Date:                Tue, 16 Oct 2018   Prob (F-statistic):           1.35e-86\n",
      "Time:                        21:34:55   Log-Likelihood:                -1070.6\n",
      "No. Observations:                 354   AIC:                             2169.\n",
      "Df Residuals:                     340   BIC:                             2223.\n",
      "Df Model:                          13                                         \n",
      "Covariance Type:            nonrobust                                         \n",
      "==============================================================================\n",
      "                 coef    std err          t      P>|t|      [0.025      0.975]\n",
      "------------------------------------------------------------------------------\n",
      "const         44.5749      6.510      6.847      0.000      31.770      57.380\n",
      "CRIM          -0.0872      0.045     -1.942      0.053      -0.175       0.001\n",
      "ZN             0.0530      0.018      3.010      0.003       0.018       0.088\n",
      "INDUS         -0.0252      0.076     -0.333      0.739      -0.174       0.124\n",
      "CHAS           2.6038      1.045      2.493      0.013       0.549       4.658\n",
      "NOX          -21.6261      4.756     -4.547      0.000     -30.980     -12.272\n",
      "RM             3.1488      0.515      6.111      0.000       2.135       4.162\n",
      "AGE            0.0055      0.017      0.323      0.747      -0.028       0.039\n",
      "DIS           -1.7877      0.267     -6.697      0.000      -2.313      -1.263\n",
      "RAD            0.3440      0.084      4.111      0.000       0.179       0.509\n",
      "TAX           -0.0125      0.005     -2.728      0.007      -0.022      -0.003\n",
      "PTRATIO       -0.9923      0.174     -5.709      0.000      -1.334      -0.650\n",
      "B              0.0107      0.003      3.201      0.002       0.004       0.017\n",
      "LSTAT         -0.5711      0.063     -9.074      0.000      -0.695      -0.447\n",
      "==============================================================================\n",
      "Omnibus:                      113.815   Durbin-Watson:                   1.973\n",
      "Prob(Omnibus):                  0.000   Jarque-Bera (JB):              396.204\n",
      "Skew:                           1.407   Prob(JB):                     9.23e-87\n",
      "Kurtosis:                       7.353   Cond. No.                     1.51e+04\n",
      "==============================================================================\n",
      "\n",
      "Warnings:\n",
      "[1] Standard Errors assume that the covariance matrix of the errors is correctly specified.\n",
      "[2] The condition number is large, 1.51e+04. This might indicate that there are\n",
      "strong multicollinearity or other numerical problems.\n"
     ]
    },
    {
     "data": {
      "text/plain": [
       "const      44.574888\n",
       "CRIM       -0.087171\n",
       "ZN          0.053015\n",
       "INDUS      -0.025202\n",
       "CHAS        2.603826\n",
       "NOX       -21.626150\n",
       "RM          3.148816\n",
       "AGE         0.005522\n",
       "DIS        -1.787671\n",
       "RAD         0.343970\n",
       "TAX        -0.012536\n",
       "PTRATIO    -0.992308\n",
       "B           0.010685\n",
       "LSTAT      -0.571065\n",
       "dtype: float64"
      ]
     },
     "execution_count": 26,
     "metadata": {},
     "output_type": "execute_result"
    }
   ],
   "source": [
    "model_lr_sm = sm.OLS(dfy_train, dfX_train)\n",
    "model_lr_sm = model_lr_sm.fit()\n",
    "\n",
    "print(model_lr_sm.summary())\n",
    "model_lr_sm.params"
   ]
  },
  {
   "cell_type": "code",
   "execution_count": 27,
   "metadata": {},
   "outputs": [],
   "source": [
    "y_pred = model_lr_sm.predict(dfX_test)\n",
    "\n",
    "# mse 산출\n",
    "mse = np.mean((dfy_test.MEDV - y_pred)**2)"
   ]
  },
  {
   "cell_type": "code",
   "execution_count": 28,
   "metadata": {},
   "outputs": [
    {
     "data": {
      "text/plain": [
       "16.179418218070005"
      ]
     },
     "execution_count": 28,
     "metadata": {},
     "output_type": "execute_result"
    }
   ],
   "source": [
    "mse"
   ]
  },
  {
   "cell_type": "code",
   "execution_count": 29,
   "metadata": {},
   "outputs": [
    {
     "data": {
      "image/png": "[encoded data removed]",
      "text/plain": [
       "<matplotlib.figure.Figure at 0x1c1bb54da0>"
      ]
     },
     "metadata": {},
     "output_type": "display_data"
    }
   ],
   "source": [
    "# plot\n",
    "plt.scatter(dfy_test, y_pred)\n",
    "plt.xlabel('True')\n",
    "plt.ylabel('Prediction')\n",
    "plt.show()"
   ]
  },
  {
   "cell_type": "code",
   "execution_count": 30,
   "metadata": {},
   "outputs": [
    {
     "data": {
      "image/png": "[encoded data removed]",
      "text/plain": [
       "<matplotlib.figure.Figure at 0x1c1bd5a710>"
      ]
     },
     "metadata": {},
     "output_type": "display_data"
    }
   ],
   "source": [
    "fig = sm.graphics.plot_regress_exog(model_lr_sm, 'CRIM')"
   ]
  },
  {
   "cell_type": "markdown",
   "metadata": {},
   "source": [
    "## Logistic Regression on Titanic"
   ]
  },
  {
   "cell_type": "code",
   "execution_count": 31,
   "metadata": {},
   "outputs": [],
   "source": [
    "import pandas as pd"
   ]
  },
  {
   "cell_type": "code",
   "execution_count": 32,
   "metadata": {},
   "outputs": [],
   "source": [
    "df = pd.read_csv('./all/train.csv')"
   ]
  },
  {
   "cell_type": "code",
   "execution_count": 33,
   "metadata": {},
   "outputs": [],
   "source": [
    "cols_to_keep = ['Survived','Age','Fare']"
   ]
  },
  {
   "cell_type": "code",
   "execution_count": 38,
   "metadata": {
    "scrolled": true
   },
   "outputs": [
    {
     "data": {
      "text/html": [
       "<div>\n",
       "<style scoped>\n",
       "    .dataframe tbody tr th:only-of-type {\n",
       "        vertical-align: middle;\n",
       "    }\n",
       "\n",
       "    .dataframe tbody tr th {\n",
       "        vertical-align: top;\n",
       "    }\n",
       "\n",
       "    .dataframe thead th {\n",
       "        text-align: right;\n",
       "    }\n",
       "</style>\n",
       "<table border=\"1\" class=\"dataframe\">\n",
       "  <thead>\n",
       "    <tr style=\"text-align: right;\">\n",
       "      <th></th>\n",
       "      <th>Sex_female</th>\n",
       "      <th>Sex_male</th>\n",
       "    </tr>\n",
       "  </thead>\n",
       "  <tbody>\n",
       "    <tr>\n",
       "      <th>0</th>\n",
       "      <td>0</td>\n",
       "      <td>1</td>\n",
       "    </tr>\n",
       "    <tr>\n",
       "      <th>1</th>\n",
       "      <td>1</td>\n",
       "      <td>0</td>\n",
       "    </tr>\n",
       "    <tr>\n",
       "      <th>2</th>\n",
       "      <td>1</td>\n",
       "      <td>0</td>\n",
       "    </tr>\n",
       "    <tr>\n",
       "      <th>3</th>\n",
       "      <td>1</td>\n",
       "      <td>0</td>\n",
       "    </tr>\n",
       "    <tr>\n",
       "      <th>4</th>\n",
       "      <td>0</td>\n",
       "      <td>1</td>\n",
       "    </tr>\n",
       "  </tbody>\n",
       "</table>\n",
       "</div>"
      ],
      "text/plain": [
       "   Sex_female  Sex_male\n",
       "0           0         1\n",
       "1           1         0\n",
       "2           1         0\n",
       "3           1         0\n",
       "4           0         1"
      ]
     },
     "execution_count": 38,
     "metadata": {},
     "output_type": "execute_result"
    }
   ],
   "source": [
    "dummy_Pclass = pd.get_dummies(df['Pclass'], prefix='Pclass')\n",
    "dummy_Sex = pd.get_dummies(df['Sex'], prefix='Sex')\n",
    "dummy_Pclass.head()\n",
    "dummy_Sex.head()"
   ]
  },
  {
   "cell_type": "code",
   "execution_count": 39,
   "metadata": {},
   "outputs": [
    {
     "name": "stderr",
     "output_type": "stream",
     "text": [
      "/Users/sanghyub/anaconda/lib/python3.6/site-packages/ipykernel_launcher.py:2: DeprecationWarning: \n",
      ".ix is deprecated. Please use\n",
      ".loc for label based indexing or\n",
      ".iloc for positional indexing\n",
      "\n",
      "See the documentation here:\n",
      "http://pandas.pydata.org/pandas-docs/stable/indexing.html#ix-indexer-is-deprecated\n",
      "  \n",
      "/Users/sanghyub/anaconda/lib/python3.6/site-packages/ipykernel_launcher.py:3: DeprecationWarning: \n",
      ".ix is deprecated. Please use\n",
      ".loc for label based indexing or\n",
      ".iloc for positional indexing\n",
      "\n",
      "See the documentation here:\n",
      "http://pandas.pydata.org/pandas-docs/stable/indexing.html#ix-indexer-is-deprecated\n",
      "  This is separate from the ipykernel package so we can avoid doing imports until\n"
     ]
    }
   ],
   "source": [
    "# 종속변수&설명변수 데이터 생성\n",
    "dfXy = df[cols_to_keep].join(dummy_Pclass.ix[:, 'Pclass_2':])  # dummy 특성상 Pclass_2 부터 이어 붙임, 비상관성 만족하기 위해\n",
    "# 변수 2개로 3개를 표현함\n",
    "dfXy = dfXy.join(dummy_Sex.ix[:, 'Sex_male':])  # dummy 특성상 Sex_male만 이어 붙임"
   ]
  },
  {
   "cell_type": "code",
   "execution_count": 44,
   "metadata": {
    "scrolled": true
   },
   "outputs": [
    {
     "data": {
      "text/html": [
       "<div>\n",
       "<style scoped>\n",
       "    .dataframe tbody tr th:only-of-type {\n",
       "        vertical-align: middle;\n",
       "    }\n",
       "\n",
       "    .dataframe tbody tr th {\n",
       "        vertical-align: top;\n",
       "    }\n",
       "\n",
       "    .dataframe thead th {\n",
       "        text-align: right;\n",
       "    }\n",
       "</style>\n",
       "<table border=\"1\" class=\"dataframe\">\n",
       "  <thead>\n",
       "    <tr style=\"text-align: right;\">\n",
       "      <th></th>\n",
       "      <th>Survived</th>\n",
       "      <th>Age</th>\n",
       "      <th>Fare</th>\n",
       "      <th>Pclass_2</th>\n",
       "      <th>Pclass_3</th>\n",
       "      <th>Sex_male</th>\n",
       "    </tr>\n",
       "  </thead>\n",
       "  <tbody>\n",
       "    <tr>\n",
       "      <th>0</th>\n",
       "      <td>0</td>\n",
       "      <td>22.0</td>\n",
       "      <td>7.2500</td>\n",
       "      <td>0</td>\n",
       "      <td>1</td>\n",
       "      <td>1</td>\n",
       "    </tr>\n",
       "    <tr>\n",
       "      <th>1</th>\n",
       "      <td>1</td>\n",
       "      <td>38.0</td>\n",
       "      <td>71.2833</td>\n",
       "      <td>0</td>\n",
       "      <td>0</td>\n",
       "      <td>0</td>\n",
       "    </tr>\n",
       "    <tr>\n",
       "      <th>2</th>\n",
       "      <td>1</td>\n",
       "      <td>26.0</td>\n",
       "      <td>7.9250</td>\n",
       "      <td>0</td>\n",
       "      <td>1</td>\n",
       "      <td>0</td>\n",
       "    </tr>\n",
       "    <tr>\n",
       "      <th>3</th>\n",
       "      <td>1</td>\n",
       "      <td>35.0</td>\n",
       "      <td>53.1000</td>\n",
       "      <td>0</td>\n",
       "      <td>0</td>\n",
       "      <td>0</td>\n",
       "    </tr>\n",
       "    <tr>\n",
       "      <th>4</th>\n",
       "      <td>0</td>\n",
       "      <td>35.0</td>\n",
       "      <td>8.0500</td>\n",
       "      <td>0</td>\n",
       "      <td>1</td>\n",
       "      <td>1</td>\n",
       "    </tr>\n",
       "  </tbody>\n",
       "</table>\n",
       "</div>"
      ],
      "text/plain": [
       "   Survived   Age     Fare  Pclass_2  Pclass_3  Sex_male\n",
       "0         0  22.0   7.2500         0         1         1\n",
       "1         1  38.0  71.2833         0         0         0\n",
       "2         1  26.0   7.9250         0         1         0\n",
       "3         1  35.0  53.1000         0         0         0\n",
       "4         0  35.0   8.0500         0         1         1"
      ]
     },
     "execution_count": 44,
     "metadata": {},
     "output_type": "execute_result"
    }
   ],
   "source": [
    "dfXy.head()"
   ]
  },
  {
   "cell_type": "code",
   "execution_count": 61,
   "metadata": {},
   "outputs": [],
   "source": [
    "del dfXy['intercept']"
   ]
  },
  {
   "cell_type": "code",
   "execution_count": 70,
   "metadata": {},
   "outputs": [],
   "source": [
    "dfXy['intercept'] = 1.0 "
   ]
  },
  {
   "cell_type": "code",
   "execution_count": 71,
   "metadata": {},
   "outputs": [],
   "source": [
    "dfXy.isnull().sum()\n",
    "dfXy = dfXy.dropna()"
   ]
  },
  {
   "cell_type": "code",
   "execution_count": 72,
   "metadata": {},
   "outputs": [
    {
     "data": {
      "text/plain": [
       "(714, 7)"
      ]
     },
     "execution_count": 72,
     "metadata": {},
     "output_type": "execute_result"
    }
   ],
   "source": [
    "dfXy.shape"
   ]
  },
  {
   "cell_type": "code",
   "execution_count": 73,
   "metadata": {},
   "outputs": [],
   "source": [
    "# data split\n",
    "from sklearn.model_selection import train_test_split\n",
    "df_train, df_test = train_test_split(dfXy, test_size=0.3, random_state=1016)"
   ]
  },
  {
   "cell_type": "code",
   "execution_count": 74,
   "metadata": {},
   "outputs": [
    {
     "name": "stdout",
     "output_type": "stream",
     "text": [
      "Optimization terminated successfully.\n",
      "         Current function value: 0.445017\n",
      "         Iterations 6\n"
     ]
    }
   ],
   "source": [
    "## model fitting\n",
    "X_cols = df_train.columns[1:]  # 설명 변수\n",
    "model_logit = sm.Logit(df_train['Survived'], df_train[X_cols])\n",
    "model_logit = model_logit.fit()"
   ]
  },
  {
   "cell_type": "code",
   "execution_count": 75,
   "metadata": {},
   "outputs": [],
   "source": [
    "## testing\n",
    "y_pred = model_logit.predict(df_test[X_cols])  # 생존 확률 예측값"
   ]
  },
  {
   "cell_type": "code",
   "execution_count": 76,
   "metadata": {},
   "outputs": [],
   "source": [
    "cut_off = 0.5\n",
    "y_pred_bn = [int(x>=cut_off) for x in y_pred]  # 생존 class 예측값"
   ]
  },
  {
   "cell_type": "code",
   "execution_count": 77,
   "metadata": {},
   "outputs": [],
   "source": [
    "import sklearn.metrics as skm\n",
    "cm = skm.confusion_matrix(df_test['Survived'].values, y_pred_bn)  # confusion matrix\n",
    "acc = skm.accuracy_score(df_test['Survived'].values, y_pred_bn)  # accuracy\n",
    "report = skm.precision_recall_fscore_support(df_test['Survived'].values, y_pred_bn)  # precision, recall, f1-measure"
   ]
  },
  {
   "cell_type": "code",
   "execution_count": 82,
   "metadata": {},
   "outputs": [
    {
     "data": {
      "text/plain": [
       "array([[107,  24],\n",
       "       [ 24,  60]])"
      ]
     },
     "execution_count": 82,
     "metadata": {},
     "output_type": "execute_result"
    }
   ],
   "source": [
    "cm"
   ]
  },
  {
   "cell_type": "code",
   "execution_count": 69,
   "metadata": {
    "scrolled": true
   },
   "outputs": [
    {
     "data": {
      "text/plain": [
       "(array([0.77857143, 0.70666667]),\n",
       " array([0.83206107, 0.63095238]),\n",
       " array([0.80442804, 0.66666667]),\n",
       " array([131,  84]))"
      ]
     },
     "execution_count": 69,
     "metadata": {},
     "output_type": "execute_result"
    }
   ],
   "source": [
    "report #without intercept\n",
    "#1기준 #0기준"
   ]
  },
  {
   "cell_type": "code",
   "execution_count": 78,
   "metadata": {},
   "outputs": [
    {
     "data": {
      "text/plain": [
       "(array([0.81679389, 0.71428571]),\n",
       " array([0.81679389, 0.71428571]),\n",
       " array([0.81679389, 0.71428571]),\n",
       " array([131,  84]))"
      ]
     },
     "execution_count": 78,
     "metadata": {},
     "output_type": "execute_result"
    }
   ],
   "source": [
    "report #with intercept"
   ]
  },
  {
   "cell_type": "code",
   "execution_count": 81,
   "metadata": {},
   "outputs": [
    {
     "data": {
      "text/plain": [
       "784    0.093183\n",
       "376    0.630463\n",
       "640    0.108905\n",
       "136    0.957260\n",
       "805    0.076875\n",
       "131    0.109003\n",
       "771    0.043995\n",
       "170    0.255326\n",
       "514    0.096124\n",
       "182    0.148315\n",
       "855    0.661748\n",
       "205    0.773436\n",
       "60     0.102389\n",
       "421    0.105580\n",
       "366    0.834400\n",
       "282    0.122979\n",
       "682    0.108738\n",
       "843    0.068754\n",
       "842    0.938155\n",
       "257    0.933978\n",
       "287    0.102312\n",
       "525    0.056416\n",
       "838    0.070321\n",
       "56     0.875088\n",
       "195    0.831631\n",
       "577    0.914825\n",
       "449    0.320237\n",
       "183    0.475851\n",
       "193    0.462550\n",
       "307    0.955839\n",
       "         ...   \n",
       "488    0.079362\n",
       "775    0.115876\n",
       "516    0.816564\n",
       "833    0.099157\n",
       "96     0.194555\n",
       "668    0.051930\n",
       "94     0.030424\n",
       "734    0.303353\n",
       "655    0.280419\n",
       "255    0.569537\n",
       "339    0.374070\n",
       "245    0.366216\n",
       "496    0.860882\n",
       "401    0.090173\n",
       "854    0.754899\n",
       "97     0.554180\n",
       "51     0.105572\n",
       "455    0.081963\n",
       "188    0.056826\n",
       "604    0.461400\n",
       "803    0.194692\n",
       "716    0.899616\n",
       "437    0.861963\n",
       "789    0.353278\n",
       "424    0.114279\n",
       "654    0.662480\n",
       "309    0.936235\n",
       "311    0.945152\n",
       "156    0.677628\n",
       "542    0.708412\n",
       "Length: 215, dtype: float64"
      ]
     },
     "execution_count": 81,
     "metadata": {},
     "output_type": "execute_result"
    }
   ],
   "source": [
    "y_pred"
   ]
  },
  {
   "cell_type": "code",
   "execution_count": 80,
   "metadata": {},
   "outputs": [
    {
     "data": {
      "text/html": [
       "<table class=\"simpletable\">\n",
       "<tr>\n",
       "        <td>Model:</td>              <td>Logit</td>       <td>No. Iterations:</td>   <td>6.0000</td> \n",
       "</tr>\n",
       "<tr>\n",
       "  <td>Dependent Variable:</td>     <td>Survived</td>     <td>Pseudo R-squared:</td>   <td>0.344</td> \n",
       "</tr>\n",
       "<tr>\n",
       "         <td>Date:</td>        <td>2018-10-16 21:58</td>       <td>AIC:</td>        <td>456.1265</td>\n",
       "</tr>\n",
       "<tr>\n",
       "   <td>No. Observations:</td>         <td>499</td>             <td>BIC:</td>        <td>481.4021</td>\n",
       "</tr>\n",
       "<tr>\n",
       "       <td>Df Model:</td>              <td>5</td>         <td>Log-Likelihood:</td>   <td>-222.06</td>\n",
       "</tr>\n",
       "<tr>\n",
       "     <td>Df Residuals:</td>           <td>493</td>           <td>LL-Null:</td>       <td>-338.26</td>\n",
       "</tr>\n",
       "<tr>\n",
       "      <td>Converged:</td>           <td>1.0000</td>           <td>Scale:</td>        <td>1.0000</td> \n",
       "</tr>\n",
       "</table>\n",
       "<table class=\"simpletable\">\n",
       "<tr>\n",
       "      <td></td>       <th>Coef.</th>  <th>Std.Err.</th>     <th>z</th>     <th>P>|z|</th> <th>[0.025</th>  <th>0.975]</th> \n",
       "</tr>\n",
       "<tr>\n",
       "  <th>Age</th>       <td>-0.0349</td>  <td>0.0094</td>   <td>-3.7158</td> <td>0.0002</td> <td>-0.0533</td> <td>-0.0165</td>\n",
       "</tr>\n",
       "<tr>\n",
       "  <th>Fare</th>      <td>-0.0013</td>  <td>0.0030</td>   <td>-0.4150</td> <td>0.6782</td> <td>-0.0072</td> <td>0.0047</td> \n",
       "</tr>\n",
       "<tr>\n",
       "  <th>Pclass_2</th>  <td>-1.1123</td>  <td>0.3834</td>   <td>-2.9011</td> <td>0.0037</td> <td>-1.8638</td> <td>-0.3608</td>\n",
       "</tr>\n",
       "<tr>\n",
       "  <th>Pclass_3</th>  <td>-2.4940</td>  <td>0.4025</td>   <td>-6.1965</td> <td>0.0000</td> <td>-3.2829</td> <td>-1.7052</td>\n",
       "</tr>\n",
       "<tr>\n",
       "  <th>Sex_male</th>  <td>-2.7052</td>  <td>0.2535</td>  <td>-10.6725</td> <td>0.0000</td> <td>-3.2020</td> <td>-2.2084</td>\n",
       "</tr>\n",
       "<tr>\n",
       "  <th>intercept</th> <td>3.8048</td>   <td>0.5823</td>   <td>6.5343</td>  <td>0.0000</td> <td>2.6635</td>  <td>4.9460</td> \n",
       "</tr>\n",
       "</table>"
      ],
      "text/plain": [
       "<class 'statsmodels.iolib.summary2.Summary'>\n",
       "\"\"\"\n",
       "                        Results: Logit\n",
       "===============================================================\n",
       "Model:              Logit            No. Iterations:   6.0000  \n",
       "Dependent Variable: Survived         Pseudo R-squared: 0.344   \n",
       "Date:               2018-10-16 21:58 AIC:              456.1265\n",
       "No. Observations:   499              BIC:              481.4021\n",
       "Df Model:           5                Log-Likelihood:   -222.06 \n",
       "Df Residuals:       493              LL-Null:          -338.26 \n",
       "Converged:          1.0000           Scale:            1.0000  \n",
       "----------------------------------------------------------------\n",
       "            Coef.   Std.Err.     z      P>|z|    [0.025   0.975]\n",
       "----------------------------------------------------------------\n",
       "Age        -0.0349    0.0094   -3.7158  0.0002  -0.0533  -0.0165\n",
       "Fare       -0.0013    0.0030   -0.4150  0.6782  -0.0072   0.0047\n",
       "Pclass_2   -1.1123    0.3834   -2.9011  0.0037  -1.8638  -0.3608\n",
       "Pclass_3   -2.4940    0.4025   -6.1965  0.0000  -3.2829  -1.7052\n",
       "Sex_male   -2.7052    0.2535  -10.6725  0.0000  -3.2020  -2.2084\n",
       "intercept   3.8048    0.5823    6.5343  0.0000   2.6635   4.9460\n",
       "===============================================================\n",
       "\n",
       "\"\"\""
      ]
     },
     "execution_count": 80,
     "metadata": {},
     "output_type": "execute_result"
    }
   ],
   "source": [
    "model_logit.summary2()"
   ]
  }
 ],
 "metadata": {
  "kernelspec": {
   "display_name": "Python 3",
   "language": "python",
   "name": "python3"
  },
  "language_info": {
   "codemirror_mode": {
    "name": "ipython",
    "version": 3
   },
   "file_extension": ".py",
   "mimetype": "text/x-python",
   "name": "python",
   "nbconvert_exporter": "python",
   "pygments_lexer": "ipython3",
   "version": "3.6.3"
  }
 },
 "nbformat": 4,
 "nbformat_minor": 2
}
