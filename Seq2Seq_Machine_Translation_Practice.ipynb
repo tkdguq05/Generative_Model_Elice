{
 "cells": [
  {
   "cell_type": "code",
   "execution_count": 1,
   "metadata": {},
   "outputs": [
    {
     "name": "stderr",
     "output_type": "stream",
     "text": [
      "/Users/sanghyub/anaconda/lib/python3.6/importlib/_bootstrap.py:219: RuntimeWarning: numpy.dtype size changed, may indicate binary incompatibility. Expected 96, got 88\n",
      "  return f(*args, **kwds)\n",
      "/Users/sanghyub/anaconda/lib/python3.6/site-packages/h5py/__init__.py:34: FutureWarning: Conversion of the second argument of issubdtype from `float` to `np.floating` is deprecated. In future, it will be treated as `np.float64 == np.dtype(float).type`.\n",
      "  from ._conv import register_converters as _register_converters\n",
      "/Users/sanghyub/anaconda/lib/python3.6/importlib/_bootstrap.py:219: RuntimeWarning: numpy.dtype size changed, may indicate binary incompatibility. Expected 96, got 88\n",
      "  return f(*args, **kwds)\n",
      "/Users/sanghyub/anaconda/lib/python3.6/importlib/_bootstrap.py:219: RuntimeWarning: numpy.dtype size changed, may indicate binary incompatibility. Expected 96, got 88\n",
      "  return f(*args, **kwds)\n"
     ]
    }
   ],
   "source": [
    "import numpy as np\n",
    "import tensorflow as tf"
   ]
  },
  {
   "cell_type": "code",
   "execution_count": 2,
   "metadata": {},
   "outputs": [],
   "source": [
    "char_arr = [c for c in 'SEPabcdefghijklmnopqrstuvwxyz단어나무놀이소녀키스사랑']\n",
    "num_dict = {n:i for i,n in enumerate(char_arr)}\n",
    "dic_len = len(num_dict)"
   ]
  },
  {
   "cell_type": "code",
   "execution_count": 3,
   "metadata": {},
   "outputs": [],
   "source": [
    "seq_data = [['word','단어'], ['wood','나무'],\n",
    "           ['game','놀이'], ['girl', '소녀'],['kiss','키스'],['love','사랑']]"
   ]
  },
  {
   "cell_type": "code",
   "execution_count": 4,
   "metadata": {},
   "outputs": [
    {
     "data": {
      "text/plain": [
       "{'E': 1,\n",
       " 'P': 2,\n",
       " 'S': 0,\n",
       " 'a': 3,\n",
       " 'b': 4,\n",
       " 'c': 5,\n",
       " 'd': 6,\n",
       " 'e': 7,\n",
       " 'f': 8,\n",
       " 'g': 9,\n",
       " 'h': 10,\n",
       " 'i': 11,\n",
       " 'j': 12,\n",
       " 'k': 13,\n",
       " 'l': 14,\n",
       " 'm': 15,\n",
       " 'n': 16,\n",
       " 'o': 17,\n",
       " 'p': 18,\n",
       " 'q': 19,\n",
       " 'r': 20,\n",
       " 's': 21,\n",
       " 't': 22,\n",
       " 'u': 23,\n",
       " 'v': 24,\n",
       " 'w': 25,\n",
       " 'x': 26,\n",
       " 'y': 27,\n",
       " 'z': 28,\n",
       " '나': 31,\n",
       " '녀': 36,\n",
       " '놀': 33,\n",
       " '단': 29,\n",
       " '랑': 40,\n",
       " '무': 32,\n",
       " '사': 39,\n",
       " '소': 35,\n",
       " '스': 38,\n",
       " '어': 30,\n",
       " '이': 34,\n",
       " '키': 37}"
      ]
     },
     "execution_count": 4,
     "metadata": {},
     "output_type": "execute_result"
    }
   ],
   "source": [
    "num_dict"
   ]
  },
  {
   "cell_type": "code",
   "execution_count": 17,
   "metadata": {},
   "outputs": [],
   "source": [
    "def make_batch(seq_data):\n",
    "    input_batch = []\n",
    "    output_batch = []\n",
    "    target_batch = []\n",
    "    \n",
    "    for seq in seq_data:\n",
    "        input = [num_dict[n] for n in seq[0]]\n",
    "        output = [num_dict[n] for n in ('S' + seq[1])]\n",
    "        target = [num_dict[n] for n in (seq[1] + 'E')]\n",
    "        \n",
    "        input_batch.append(np.eye(dic_len)[input])\n",
    "        output_batch.append(np.eye(dic_len)[output])\n",
    "        target_batch.append(target)\n",
    "    return input_batch, output_batch, target_batch"
   ]
  },
  {
   "cell_type": "code",
   "execution_count": 6,
   "metadata": {},
   "outputs": [],
   "source": [
    "learning_rate = 0.001\n",
    "n_hidden = 128\n",
    "total_epoch = 100\n",
    "\n",
    "n_class = n_input = dic_len"
   ]
  },
  {
   "cell_type": "code",
   "execution_count": 7,
   "metadata": {},
   "outputs": [],
   "source": [
    "enc_input = tf.placeholder(tf.float32, [None,None, n_input])\n",
    "dec_input = tf.placeholder(tf.float32, [None,None, n_input])\n",
    "targets = tf.placeholder(tf.int64, [None, None])"
   ]
  },
  {
   "cell_type": "code",
   "execution_count": 8,
   "metadata": {},
   "outputs": [],
   "source": [
    "with tf.variable_scope('encode'):\n",
    "    enc_cell = tf.nn.rnn_cell.BasicRNNCell(n_hidden)\n",
    "    enc_cell = tf.nn.rnn_cell.DropoutWrapper(enc_cell, output_keep_prob = 0.5)\n",
    "    \n",
    "    outputs, enc_states = tf.nn.dynamic_rnn(enc_cell, enc_input, dtype= tf.float32)"
   ]
  },
  {
   "cell_type": "code",
   "execution_count": 9,
   "metadata": {},
   "outputs": [],
   "source": [
    "with tf.variable_scope('decode'):\n",
    "    dec_cell = tf.nn.rnn_cell.BasicRNNCell(n_hidden)\n",
    "    dec_cell = tf.nn.rnn_cell.DropoutWrapper(dec_cell, output_keep_prob = 0.5)\n",
    "    \n",
    "    outputs, dec_states = tf.nn.dynamic_rnn(dec_cell, dec_input, initial_state=enc_states, dtype = tf.float32)"
   ]
  },
  {
   "cell_type": "code",
   "execution_count": 10,
   "metadata": {},
   "outputs": [],
   "source": [
    "model = tf.layers.dense(outputs, n_class, activation=None)\n",
    "\n",
    "cost = tf.reduce_mean(tf.nn.sparse_softmax_cross_entropy_with_logits(logits = model, labels = targets))\n",
    "\n",
    "optimizer = tf.train.AdamOptimizer(learning_rate).minimize(cost)"
   ]
  },
  {
   "cell_type": "code",
   "execution_count": 12,
   "metadata": {},
   "outputs": [],
   "source": [
    "sess = tf.Session()\n",
    "sess.run(tf.global_variables_initializer())"
   ]
  },
  {
   "cell_type": "code",
   "execution_count": 18,
   "metadata": {},
   "outputs": [],
   "source": [
    "input_batch, output_batch, target_batch = make_batch(seq_data)"
   ]
  },
  {
   "cell_type": "code",
   "execution_count": 19,
   "metadata": {},
   "outputs": [
    {
     "name": "stdout",
     "output_type": "stream",
     "text": [
      "Epoch: 0001 cost = 3.799001\n",
      "Epoch: 0002 cost = 3.568632\n",
      "Epoch: 0003 cost = 3.545197\n",
      "Epoch: 0004 cost = 3.393185\n",
      "Epoch: 0005 cost = 3.311848\n",
      "Epoch: 0006 cost = 3.201653\n",
      "Epoch: 0007 cost = 2.905336\n",
      "Epoch: 0008 cost = 2.912982\n",
      "Epoch: 0009 cost = 2.634697\n",
      "Epoch: 0010 cost = 2.446701\n",
      "Epoch: 0011 cost = 2.398452\n",
      "Epoch: 0012 cost = 2.268569\n",
      "Epoch: 0013 cost = 1.944133\n",
      "Epoch: 0014 cost = 2.000962\n",
      "Epoch: 0015 cost = 1.892102\n",
      "Epoch: 0016 cost = 1.663015\n",
      "Epoch: 0017 cost = 1.562999\n",
      "Epoch: 0018 cost = 1.677069\n",
      "Epoch: 0019 cost = 1.235006\n",
      "Epoch: 0020 cost = 1.478613\n",
      "Epoch: 0021 cost = 1.349723\n",
      "Epoch: 0022 cost = 1.305959\n",
      "Epoch: 0023 cost = 1.141533\n",
      "Epoch: 0024 cost = 1.244082\n",
      "Epoch: 0025 cost = 0.957766\n",
      "Epoch: 0026 cost = 1.031638\n",
      "Epoch: 0027 cost = 0.753250\n",
      "Epoch: 0028 cost = 0.816257\n",
      "Epoch: 0029 cost = 0.726336\n",
      "Epoch: 0030 cost = 0.579475\n",
      "Epoch: 0031 cost = 0.727058\n",
      "Epoch: 0032 cost = 0.615408\n",
      "Epoch: 0033 cost = 0.516596\n",
      "Epoch: 0034 cost = 0.525414\n",
      "Epoch: 0035 cost = 0.504790\n",
      "Epoch: 0036 cost = 0.360280\n",
      "Epoch: 0037 cost = 0.521859\n",
      "Epoch: 0038 cost = 0.450198\n",
      "Epoch: 0039 cost = 0.331710\n",
      "Epoch: 0040 cost = 0.403212\n",
      "Epoch: 0041 cost = 0.255716\n",
      "Epoch: 0042 cost = 0.287864\n",
      "Epoch: 0043 cost = 0.241741\n",
      "Epoch: 0044 cost = 0.203439\n",
      "Epoch: 0045 cost = 0.223580\n",
      "Epoch: 0046 cost = 0.276907\n",
      "Epoch: 0047 cost = 0.213636\n",
      "Epoch: 0048 cost = 0.171097\n",
      "Epoch: 0049 cost = 0.216501\n",
      "Epoch: 0050 cost = 0.193302\n",
      "Epoch: 0051 cost = 0.218961\n",
      "Epoch: 0052 cost = 0.261439\n",
      "Epoch: 0053 cost = 0.147578\n",
      "Epoch: 0054 cost = 0.130955\n",
      "Epoch: 0055 cost = 0.161997\n",
      "Epoch: 0056 cost = 0.205489\n",
      "Epoch: 0057 cost = 0.114900\n",
      "Epoch: 0058 cost = 0.121508\n",
      "Epoch: 0059 cost = 0.153667\n",
      "Epoch: 0060 cost = 0.170907\n",
      "Epoch: 0061 cost = 0.106848\n",
      "Epoch: 0062 cost = 0.135580\n",
      "Epoch: 0063 cost = 0.082854\n",
      "Epoch: 0064 cost = 0.087593\n",
      "Epoch: 0065 cost = 0.128543\n",
      "Epoch: 0066 cost = 0.063231\n",
      "Epoch: 0067 cost = 0.080014\n",
      "Epoch: 0068 cost = 0.076180\n",
      "Epoch: 0069 cost = 0.078225\n",
      "Epoch: 0070 cost = 0.147583\n",
      "Epoch: 0071 cost = 0.086783\n",
      "Epoch: 0072 cost = 0.093550\n",
      "Epoch: 0073 cost = 0.073596\n",
      "Epoch: 0074 cost = 0.051980\n",
      "Epoch: 0075 cost = 0.124740\n",
      "Epoch: 0076 cost = 0.093313\n",
      "Epoch: 0077 cost = 0.074461\n",
      "Epoch: 0078 cost = 0.092899\n",
      "Epoch: 0079 cost = 0.111163\n",
      "Epoch: 0080 cost = 0.066310\n",
      "Epoch: 0081 cost = 0.057555\n",
      "Epoch: 0082 cost = 0.067532\n",
      "Epoch: 0083 cost = 0.073672\n",
      "Epoch: 0084 cost = 0.041094\n",
      "Epoch: 0085 cost = 0.051330\n",
      "Epoch: 0086 cost = 0.042439\n",
      "Epoch: 0087 cost = 0.051285\n",
      "Epoch: 0088 cost = 0.072130\n",
      "Epoch: 0089 cost = 0.036164\n",
      "Epoch: 0090 cost = 0.020896\n",
      "Epoch: 0091 cost = 0.023559\n",
      "Epoch: 0092 cost = 0.041121\n",
      "Epoch: 0093 cost = 0.026484\n",
      "Epoch: 0094 cost = 0.058372\n",
      "Epoch: 0095 cost = 0.043258\n",
      "Epoch: 0096 cost = 0.054032\n",
      "Epoch: 0097 cost = 0.039586\n",
      "Epoch: 0098 cost = 0.056783\n",
      "Epoch: 0099 cost = 0.034371\n",
      "Epoch: 0100 cost = 0.055005\n",
      "Complete\n"
     ]
    }
   ],
   "source": [
    "for epoch in range(total_epoch):\n",
    "    _, loss = sess.run([optimizer, cost],\n",
    "                      feed_dict = {enc_input: input_batch, dec_input:output_batch, targets :target_batch})\n",
    "    print('Epoch:', '%04d' % (epoch + 1),\n",
    "         'cost =', '{:.6f}'.format(loss))\n",
    "    \n",
    "print('Complete')\n"
   ]
  },
  {
   "cell_type": "code",
   "execution_count": 21,
   "metadata": {},
   "outputs": [],
   "source": [
    "def translate(word):\n",
    "    seq_data = [word, 'P'*len(word)]\n",
    "    \n",
    "    input_batch, output_batch, target_batch = make_batch([seq_data])\n",
    "    prediction = tf.argmax(model,2)\n",
    "    result = sess.run(prediction, \n",
    "                     feed_dict = {enc_input :input_batch, dec_input:output_batch, targets : target_batch})\n",
    "    \n",
    "    decoded = [char_arr[i] for i in result[0]]\n",
    "    end = decoded.index('E')\n",
    "    translated = ''.join(decoded[:end])\n",
    "    \n",
    "    return translated"
   ]
  },
  {
   "cell_type": "code",
   "execution_count": 29,
   "metadata": {},
   "outputs": [
    {
     "name": "stdout",
     "output_type": "stream",
     "text": [
      "word----> 단어\n",
      "word----> 단어\n",
      "love----> 사랑\n",
      "loev----> 사랑\n",
      "abcd----> 사랑\n"
     ]
    }
   ],
   "source": [
    "print('word---->', translate('word'))\n",
    "print('word---->', translate('wodr'))\n",
    "print('love---->', translate('love'))\n",
    "print('loev---->', translate('loev'))\n",
    "print('abcd---->', translate('abcd'))"
   ]
  },
  {
   "cell_type": "code",
   "execution_count": 30,
   "metadata": {},
   "outputs": [
    {
     "name": "stdout",
     "output_type": "stream",
     "text": [
      "/Users/sanghyub/space/AI_Elice\r\n"
     ]
    }
   ],
   "source": [
    "!pwd"
   ]
  }
 ],
 "metadata": {
  "kernelspec": {
   "display_name": "Python 3",
   "language": "python",
   "name": "python3"
  },
  "language_info": {
   "codemirror_mode": {
    "name": "ipython",
    "version": 3
   },
   "file_extension": ".py",
   "mimetype": "text/x-python",
   "name": "python",
   "nbconvert_exporter": "python",
   "pygments_lexer": "ipython3",
   "version": "3.6.3"
  }
 },
 "nbformat": 4,
 "nbformat_minor": 2
}
